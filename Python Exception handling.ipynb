{
 "cells": [
  {
   "cell_type": "code",
   "execution_count": 1,
   "id": "e05d663a",
   "metadata": {},
   "outputs": [],
   "source": [
    "# what is difference difference between error and exception?"
   ]
  },
  {
   "cell_type": "code",
   "execution_count": 2,
   "id": "f052dc4b",
   "metadata": {},
   "outputs": [
    {
     "ename": "NameError",
     "evalue": "name 'b' is not defined",
     "output_type": "error",
     "traceback": [
      "\u001b[1;31m---------------------------------------------------------------------------\u001b[0m",
      "\u001b[1;31mNameError\u001b[0m                                 Traceback (most recent call last)",
      "Input \u001b[1;32mIn [2]\u001b[0m, in \u001b[0;36m<cell line: 1>\u001b[1;34m()\u001b[0m\n\u001b[1;32m----> 1\u001b[0m a\u001b[38;5;241m=\u001b[39m\u001b[43mb\u001b[49m\n",
      "\u001b[1;31mNameError\u001b[0m: name 'b' is not defined"
     ]
    }
   ],
   "source": [
    "a=b"
   ]
  },
  {
   "cell_type": "code",
   "execution_count": 3,
   "id": "ec54c014",
   "metadata": {},
   "outputs": [],
   "source": [
    "# If person using the application is not able to understand this error, so we have to tell them so that they can understand."
   ]
  },
  {
   "cell_type": "code",
   "execution_count": 4,
   "id": "66e390f0",
   "metadata": {},
   "outputs": [],
   "source": [
    "# to handle the exception we use the try, exception blocks."
   ]
  },
  {
   "cell_type": "code",
   "execution_count": 5,
   "id": "0c3bb3ee",
   "metadata": {},
   "outputs": [
    {
     "name": "stdout",
     "output_type": "stream",
     "text": [
      "there is some problem\n"
     ]
    }
   ],
   "source": [
    "try:\n",
    "    ## code block where exception can occur\n",
    "    a=b\n",
    "except:\n",
    "    print(\"there is some problem\")"
   ]
  },
  {
   "cell_type": "code",
   "execution_count": 6,
   "id": "a1805c1c",
   "metadata": {},
   "outputs": [
    {
     "name": "stdout",
     "output_type": "stream",
     "text": [
      "name 'b' is not defined\n"
     ]
    }
   ],
   "source": [
    "try:\n",
    "    a=b\n",
    "except Exception as ex:\n",
    "    print(ex)"
   ]
  },
  {
   "cell_type": "code",
   "execution_count": 7,
   "id": "1616a1c8",
   "metadata": {},
   "outputs": [
    {
     "ename": "NameError",
     "evalue": "name 'b' is not defined",
     "output_type": "error",
     "traceback": [
      "\u001b[1;31m---------------------------------------------------------------------------\u001b[0m",
      "\u001b[1;31mNameError\u001b[0m                                 Traceback (most recent call last)",
      "Input \u001b[1;32mIn [7]\u001b[0m, in \u001b[0;36m<cell line: 1>\u001b[1;34m()\u001b[0m\n\u001b[1;32m----> 1\u001b[0m a\u001b[38;5;241m=\u001b[39m\u001b[43mb\u001b[49m\n",
      "\u001b[1;31mNameError\u001b[0m: name 'b' is not defined"
     ]
    }
   ],
   "source": [
    "a=b"
   ]
  },
  {
   "cell_type": "code",
   "execution_count": 8,
   "id": "271a07fd",
   "metadata": {},
   "outputs": [],
   "source": [
    "# this NameError can be handle as:"
   ]
  },
  {
   "cell_type": "code",
   "execution_count": 9,
   "id": "8a99f130",
   "metadata": {},
   "outputs": [
    {
     "name": "stdout",
     "output_type": "stream",
     "text": [
      "The user have not defined the varible\n"
     ]
    }
   ],
   "source": [
    "try: \n",
    "    a=b\n",
    "except NameError as ex1:\n",
    "    print('The user have not defined the varible')\n",
    "except Exception as ex:\n",
    "    print(ex)"
   ]
  },
  {
   "cell_type": "code",
   "execution_count": 10,
   "id": "c1193cf1",
   "metadata": {},
   "outputs": [
    {
     "name": "stdout",
     "output_type": "stream",
     "text": [
      "unsupported operand type(s) for +: 'int' and 'str'\n"
     ]
    }
   ],
   "source": [
    "try:\n",
    "    a=1\n",
    "    b='t'\n",
    "    c=a+b\n",
    "except NameError as ex1:\n",
    "    print('the user have not defined the variable')\n",
    "except Exception as ex:\n",
    "    print(ex)"
   ]
  },
  {
   "cell_type": "code",
   "execution_count": 11,
   "id": "1f3e02d6",
   "metadata": {},
   "outputs": [
    {
     "ename": "TypeError",
     "evalue": "unsupported operand type(s) for +: 'int' and 'str'",
     "output_type": "error",
     "traceback": [
      "\u001b[1;31m---------------------------------------------------------------------------\u001b[0m",
      "\u001b[1;31mTypeError\u001b[0m                                 Traceback (most recent call last)",
      "Input \u001b[1;32mIn [11]\u001b[0m, in \u001b[0;36m<cell line: 3>\u001b[1;34m()\u001b[0m\n\u001b[0;32m      1\u001b[0m a\u001b[38;5;241m=\u001b[39m\u001b[38;5;241m1\u001b[39m\n\u001b[0;32m      2\u001b[0m b\u001b[38;5;241m=\u001b[39m\u001b[38;5;124m'\u001b[39m\u001b[38;5;124mt\u001b[39m\u001b[38;5;124m'\u001b[39m\n\u001b[1;32m----> 3\u001b[0m c\u001b[38;5;241m=\u001b[39m\u001b[43ma\u001b[49m\u001b[38;5;241;43m+\u001b[39;49m\u001b[43mb\u001b[49m\n",
      "\u001b[1;31mTypeError\u001b[0m: unsupported operand type(s) for +: 'int' and 'str'"
     ]
    }
   ],
   "source": [
    "a=1\n",
    "b='t'\n",
    "c=a+b"
   ]
  },
  {
   "cell_type": "code",
   "execution_count": 12,
   "id": "12ff5f30",
   "metadata": {},
   "outputs": [
    {
     "name": "stdout",
     "output_type": "stream",
     "text": [
      "Try to make the datatype similar; here you need to do typecasting\n"
     ]
    }
   ],
   "source": [
    "# this type error can be handle as:\n",
    "\n",
    "try:\n",
    "    a=1\n",
    "    b='t'\n",
    "    c=a+b\n",
    "except NameError:\n",
    "    print('the user have not defined the variable')\n",
    "except TypeError:\n",
    "    print('Try to make the datatype similar; here you need to do typecasting')\n",
    "except Exception as ex:\n",
    "    print(ex)"
   ]
  },
  {
   "cell_type": "code",
   "execution_count": 15,
   "id": "817c2090",
   "metadata": {},
   "outputs": [
    {
     "name": "stdout",
     "output_type": "stream",
     "text": [
      "enter the number 1: 16\n",
      "enter the number 2: 4\n",
      "20\n",
      "4.0\n",
      "64\n"
     ]
    }
   ],
   "source": [
    "try:\n",
    "    a=int(input('enter the number 1: '))\n",
    "    b=int(input('enter the number 2: '))\n",
    "    c=a+b\n",
    "    d=a/b\n",
    "    e=a*b\n",
    "    print(c)\n",
    "    print(d)\n",
    "    print(e)\n",
    "except NameError:\n",
    "    print('the user have not defined the variable')\n",
    "except TypeError:\n",
    "    print('Try to make the datatype similar; here you need to do typecasting')\n",
    "except Exception as ex:\n",
    "    print(ex)"
   ]
  },
  {
   "cell_type": "code",
   "execution_count": 17,
   "id": "639d8adc",
   "metadata": {},
   "outputs": [
    {
     "name": "stdout",
     "output_type": "stream",
     "text": [
      "enter the number 1: 16\n",
      "enter the number 2: 0\n",
      "error = division by zero\n"
     ]
    }
   ],
   "source": [
    "try:\n",
    "    a=int(input('enter the number 1: '))\n",
    "    b=int(input('enter the number 2: '))\n",
    "    c=a+b\n",
    "    d=a/b\n",
    "    e=a*b\n",
    "    print(c)\n",
    "    print(d)\n",
    "    print(e)\n",
    "except NameError:\n",
    "    print('the user have not defined the variable')\n",
    "except TypeError:\n",
    "    print('Try to make the datatype similar; here you need to do typecasting')\n",
    "except Exception as ex:\n",
    "    print('error =', ex)"
   ]
  },
  {
   "cell_type": "code",
   "execution_count": 18,
   "id": "360dfdae",
   "metadata": {},
   "outputs": [
    {
     "ename": "ZeroDivisionError",
     "evalue": "division by zero",
     "output_type": "error",
     "traceback": [
      "\u001b[1;31m---------------------------------------------------------------------------\u001b[0m",
      "\u001b[1;31mZeroDivisionError\u001b[0m                         Traceback (most recent call last)",
      "Input \u001b[1;32mIn [18]\u001b[0m, in \u001b[0;36m<cell line: 3>\u001b[1;34m()\u001b[0m\n\u001b[0;32m      1\u001b[0m a\u001b[38;5;241m=\u001b[39m\u001b[38;5;241m16\u001b[39m\n\u001b[0;32m      2\u001b[0m b\u001b[38;5;241m=\u001b[39m\u001b[38;5;241m0\u001b[39m\n\u001b[1;32m----> 3\u001b[0m \u001b[43ma\u001b[49m\u001b[38;5;241;43m/\u001b[39;49m\u001b[43mb\u001b[49m\n",
      "\u001b[1;31mZeroDivisionError\u001b[0m: division by zero"
     ]
    }
   ],
   "source": [
    "a=16\n",
    "b=0\n",
    "a/b"
   ]
  },
  {
   "cell_type": "code",
   "execution_count": 19,
   "id": "fcb5ee44",
   "metadata": {},
   "outputs": [
    {
     "name": "stdout",
     "output_type": "stream",
     "text": [
      "enter the number 1: 16\n",
      "enter the number 2: 0\n",
      "Try to provide the number greater than 0\n"
     ]
    }
   ],
   "source": [
    "# here zero division error occur, so lets handle this error as:\n",
    "try:\n",
    "    a=int(input('enter the number 1: '))\n",
    "    b=int(input('enter the number 2: '))\n",
    "    c=a+b\n",
    "    d=a/b\n",
    "    e=a*b\n",
    "    print(c)\n",
    "    print(d)\n",
    "    print(e)\n",
    "except NameError:\n",
    "    print('the user have not defined the variable')\n",
    "except TypeError:\n",
    "    print('Try to make the datatype similar; here you need to do typecasting')\n",
    "except ZeroDivisionError:\n",
    "    print('Try to provide the number greater than 0')\n",
    "except Exception as ex:\n",
    "    print(ex)"
   ]
  },
  {
   "cell_type": "code",
   "execution_count": 20,
   "id": "ff2b55c4",
   "metadata": {},
   "outputs": [
    {
     "name": "stdout",
     "output_type": "stream",
     "text": [
      "enter the number 1: 16\n",
      "enter the number 2: 2\n",
      "18\n",
      "8.0\n",
      "32\n"
     ]
    }
   ],
   "source": [
    "# try, else\n",
    "\n",
    "try:\n",
    "    a=int(input('enter the number 1: '))\n",
    "    b=int(input('enter the number 2: '))\n",
    "    c=a+b\n",
    "    d=a/b\n",
    "    e=a*b\n",
    "except NameError:\n",
    "    print('the user have not defined the variable')\n",
    "except TypeError:\n",
    "    print('Try to make the datatype similar; here you need to do typecasting')\n",
    "except ZeroDivisionError:\n",
    "    print('Try to provide the number greater than 0')\n",
    "except Exception as ex:\n",
    "    print(ex)\n",
    "else:\n",
    "    print(c)\n",
    "    print(d)\n",
    "    print(e)    # if there is not any exception then else block will get excute."
   ]
  },
  {
   "cell_type": "code",
   "execution_count": 21,
   "id": "dd9cf87e",
   "metadata": {},
   "outputs": [
    {
     "name": "stdout",
     "output_type": "stream",
     "text": [
      "enter the number 1: 20\n",
      "enter the number 2: 4\n",
      "24\n",
      "5.0\n",
      "80\n",
      "The excution is done\n"
     ]
    }
   ],
   "source": [
    "# try, else, finally\n",
    "try:\n",
    "    a=int(input('enter the number 1: '))\n",
    "    b=int(input('enter the number 2: '))\n",
    "    c=a+b\n",
    "    d=a/b\n",
    "    e=a*b\n",
    "except NameError:\n",
    "    print('the user have not defined the variable')\n",
    "except TypeError:\n",
    "    print('Try to make the datatype similar; here you need to do typecasting')\n",
    "except ZeroDivisionError:\n",
    "    print('Try to provide the number greater than 0')\n",
    "except Exception as ex:\n",
    "    print(ex)\n",
    "else:\n",
    "    print(c)\n",
    "    print(d)\n",
    "    print(e)\n",
    "finally:\n",
    "    print('The excution is done')     "
   ]
  },
  {
   "cell_type": "code",
   "execution_count": 22,
   "id": "c03c3470",
   "metadata": {},
   "outputs": [
    {
     "name": "stdout",
     "output_type": "stream",
     "text": [
      "enter the number 1: 16\n",
      "enter the number 2: 0\n",
      "Try to provide the number greater than 0\n",
      "the excution is done\n"
     ]
    }
   ],
   "source": [
    "try:\n",
    "    a=int(input('enter the number 1: '))\n",
    "    b=int(input('enter the number 2: '))\n",
    "    c=a+b\n",
    "    d=a/b\n",
    "    e=a*b\n",
    "except NameError:\n",
    "    print('the user have not defined the variable')\n",
    "except TypeError:\n",
    "    print('Try to make the datatype similar; here you need to do typecasting')\n",
    "except ZeroDivisionError:\n",
    "    print('Try to provide the number greater than 0')\n",
    "except Exception as ex:\n",
    "    print(ex)\n",
    "else:\n",
    "    print(c)\n",
    "    print(d)\n",
    "    print(e)    \n",
    "finally:\n",
    "    print('the excution is done')   # eventhough the exception is happens the finally block is executes."
   ]
  },
  {
   "cell_type": "raw",
   "id": "13c82847",
   "metadata": {},
   "source": [
    "What is the use of this finally block:\n",
    "    Whenever we are going through the database connected to perform operation, if exception is occured then finally block excutes and it helps to disconnect the database also."
   ]
  },
  {
   "cell_type": "code",
   "execution_count": null,
   "id": "b3a20f81",
   "metadata": {},
   "outputs": [],
   "source": []
  }
 ],
 "metadata": {
  "kernelspec": {
   "display_name": "Python 3 (ipykernel)",
   "language": "python",
   "name": "python3"
  },
  "language_info": {
   "codemirror_mode": {
    "name": "ipython",
    "version": 3
   },
   "file_extension": ".py",
   "mimetype": "text/x-python",
   "name": "python",
   "nbconvert_exporter": "python",
   "pygments_lexer": "ipython3",
   "version": "3.9.12"
  }
 },
 "nbformat": 4,
 "nbformat_minor": 5
}
